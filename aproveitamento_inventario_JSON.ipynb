{
 "cells": [
  {
   "cell_type": "markdown",
   "metadata": {},
   "source": [
    "# Iniciar a recuperação de Arquivos\n",
    "\n",
    "## Usando o \"inventario_JSON.txt\"\n",
    "\n",
    "Lembrando que o arquivo de inventario pode-se obter da forma:\n",
    "\n",
    "aws glacier get-job-output --account-id - --vault-name 2020_MES_DIA --job-id  $job inventario_JSON.txt\n",
    "\n",
    "Sendo preciso gerar os comandos de recuperação de arquivos da forma:\n",
    "\n",
    "!aws glacier initiate-job --account-id - --vault-name 2020_marco_11  --job-parameters '{\"Type\": \"archive-retrieval\",\"ArchiveId\": \"ArchiveId\" }'\n",
    "\n",
    "Pode-se pensar que usar o **python diretamente**, com ajuda das referências:\n",
    "\n",
    "+ https://docs.aws.amazon.com/code-samples/latest/catalog/python-glacier-upload_archive.py.html\n",
    "\n",
    "+ https://docs.aws.amazon.com/code-samples/latest/catalog/code-catalog-python-example_code-glacier.html\n",
    "\n",
    "**Mas o uso do CLI da aws representa uma excelente alternativa para poupar tempo!!**\n",
    "\n"
   ]
  },
  {
   "cell_type": "code",
   "execution_count": 3,
   "metadata": {},
   "outputs": [],
   "source": [
    "import json\n",
    "import os\n",
    "\n",
    "file=open('inventario_JSON.txt')\n",
    "\n",
    "fonte=json.load(file)\n",
    "\n",
    "comando_aws=\"!aws glacier initiate-job --account-id - --vault-name 2020_marco_11  --job-parameters \"\n",
    "\n",
    "indice=1;\n",
    "for key in fonte['ArchiveList']:    \n",
    "    parametros_recuperar=\"\\\"Type\\\": \\\"archive-retrieval\\\",\\\"ArchiveId\\\": \\\"{}\\\" \".format(key['ArchiveId'])\n",
    "    print(\"!aws glacier initiate-job --account-id - --vault-name 2020_marco_11  --job-parameters '{%s}'\" % parametros_recuperar)\n",
    "    print(\"! echo %s\" % indice)\n",
    "    indice=indice+1\n",
    "\n",
    "\n"
   ]
  },
  {
   "cell_type": "code",
   "execution_count": null,
   "metadata": {},
   "outputs": [],
   "source": []
  }
 ],
 "metadata": {
  "kernelspec": {
   "display_name": "Python 3",
   "language": "python",
   "name": "python3"
  },
  "language_info": {
   "codemirror_mode": {
    "name": "ipython",
    "version": 3
   },
   "file_extension": ".py",
   "mimetype": "text/x-python",
   "name": "python",
   "nbconvert_exporter": "python",
   "pygments_lexer": "ipython3",
   "version": "3.6.8"
  }
 },
 "nbformat": 4,
 "nbformat_minor": 4
}
