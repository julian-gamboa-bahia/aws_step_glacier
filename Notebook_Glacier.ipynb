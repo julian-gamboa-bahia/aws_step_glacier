{
 "cells": [
  {
   "cell_type": "markdown",
   "metadata": {},
   "source": [
    "# Notebook Glacier\n",
    "## Notebook Jupyter para melhor uso do serviço glacier (https://aws.amazon.com/pt/glacier/) da AWS\n",
    "\n",
    "\n"
   ]
  },
  {
   "cell_type": "code",
   "execution_count": 1,
   "metadata": {},
   "outputs": [],
   "source": [
    "import os\n",
    "import json\n",
    "\n",
    "list_vaults=os.popen(\"aws glacier list-vaults --account-id  -\").read()\n",
    "\n",
    "list_vaults_json=json.loads(list_vaults)\n",
    "\n",
    "lista_apenas_VaultList=list_vaults_json['VaultList']\n"
   ]
  },
  {
   "cell_type": "code",
   "execution_count": 2,
   "metadata": {},
   "outputs": [],
   "source": [
    "import seaborn as sns\n",
    "import pandas as pd\n",
    "\n",
    "\n",
    "# x=\"class\", \n",
    "#ax = sns.countplot(lista_apenas_VaultList)\n",
    "\n",
    "\n",
    "df = pd.DataFrame(\n",
    "    {\n",
    "     'VaultName': [x['VaultName'] for x in lista_apenas_VaultList] , #lista_apenas_VaultList[0]['VaultName'],\n",
    "     'SizeInBytes': [x['SizeInBytes'] for x in lista_apenas_VaultList] , #lista_apenas_VaultList[0]['SizeInBytes'],\n",
    "     'Id': range(30)\n",
    "    }\n",
    ")\n",
    "\n",
    "sns.relplot(x=\"SizeInBytes\", y=\"VaultName\", data=df);"
   ]
  }
 ],
 "metadata": {
  "kernelspec": {
   "display_name": "Python 3",
   "language": "python",
   "name": "python3"
  },
  "language_info": {
   "codemirror_mode": {
    "name": "ipython",
    "version": 3
   },
   "file_extension": ".py",
   "mimetype": "text/x-python",
   "name": "python",
   "nbconvert_exporter": "python",
   "pygments_lexer": "ipython3",
   "version": "3.6.8"
  }
 },
 "nbformat": 4,
 "nbformat_minor": 2
}
